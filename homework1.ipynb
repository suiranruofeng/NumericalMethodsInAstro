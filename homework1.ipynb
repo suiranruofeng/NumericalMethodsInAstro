{
 "cells": [
  {
   "cell_type": "code",
   "execution_count": 1,
   "metadata": {},
   "outputs": [],
   "source": [
    "import numpy as np\n",
    "from scipy.interpolate import interp1d\n",
    "from scipy.integrate import quad"
   ]
  },
  {
   "cell_type": "code",
   "execution_count": 3,
   "metadata": {},
   "outputs": [
    {
     "name": "stdout",
     "output_type": "stream",
     "text": [
      "k= 0.001 Tk= 0.984495401382446\n"
     ]
    }
   ],
   "source": [
    "# 插值\n",
    "data=np.loadtxt('./transfer-function.txt',skiprows=1)\n",
    "data_lgk=np.log10(data[:,0])\n",
    "data_lgTk=np.log10(data[:,1])\n",
    "lgTk_interp=interp1d(data_lgk,data_lgTk,kind='cubic')\n",
    "def Tk(k):\n",
    "    return 10 ** lgTk_interp(np.log10(k))[()]\n",
    "\n",
    "k=1e-3\n",
    "a=Tk(k)\n",
    "print('k=',k,'Tk=',a)"
   ]
  },
  {
   "cell_type": "code",
   "execution_count": 11,
   "metadata": {},
   "outputs": [],
   "source": [
    "A_s=1\n",
    "h=0.6774\n",
    "R=8*h**(-1)\n",
    "n_s=0.96"
   ]
  },
  {
   "cell_type": "code",
   "execution_count": 12,
   "metadata": {},
   "outputs": [],
   "source": [
    "#窗函数\n",
    "def W(k,R):\n",
    "    return (3*(np.sin(k*R)-(k*R)*np.cos(k*R)))/(k*R)**3"
   ]
  },
  {
   "cell_type": "code",
   "execution_count": 13,
   "metadata": {},
   "outputs": [],
   "source": [
    "def P_CDM(k):\n",
    "    return A_s*k**n_s*Tk**2"
   ]
  },
  {
   "cell_type": "code",
   "execution_count": 14,
   "metadata": {},
   "outputs": [],
   "source": [
    "#积分\n",
    "def sigma_noint(R):\n",
    "    return (np.pi * k**2)/((2*np.pi)**3)*P_CDM(k)*W(k,R)**2"
   ]
  },
  {
   "cell_type": "code",
   "execution_count": null,
   "metadata": {},
   "outputs": [],
   "source": []
  }
 ],
 "metadata": {
  "kernelspec": {
   "display_name": "ictp-ap",
   "language": "python",
   "name": "python3"
  },
  "language_info": {
   "codemirror_mode": {
    "name": "ipython",
    "version": 3
   },
   "file_extension": ".py",
   "mimetype": "text/x-python",
   "name": "python",
   "nbconvert_exporter": "python",
   "pygments_lexer": "ipython3",
   "version": "3.10.13"
  }
 },
 "nbformat": 4,
 "nbformat_minor": 2
}
