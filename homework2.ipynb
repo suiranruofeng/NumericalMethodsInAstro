{
 "cells": [
  {
   "cell_type": "code",
   "execution_count": 2,
   "metadata": {},
   "outputs": [],
   "source": [
    "import numpy as np\n",
    "from scipy.interpolate import interp2d, interp1d , RegularGridInterpolator\n",
    "from scipy.integrate import quad\n",
    "from scipy.interpolate import RegularGridInterpolator\n",
    "import matplotlib.pyplot as plt"
   ]
  },
  {
   "cell_type": "code",
   "execution_count": 3,
   "metadata": {},
   "outputs": [],
   "source": [
    "data=np.loadtxt('./dn_dM.txt',skiprows=1)\n",
    "M_list=(data[:,0])\n",
    "z_list=(data[:,1])\n",
    "dndzM_list=(data[:,2])"
   ]
  },
  {
   "cell_type": "code",
   "execution_count": 4,
   "metadata": {},
   "outputs": [
    {
     "name": "stdout",
     "output_type": "stream",
     "text": [
      "Error: M=10000000000.0, z=5 is out of data range.\n"
     ]
    }
   ],
   "source": [
    "import pandas as pd\n",
    "\n",
    "data = pd.read_csv('./dn_dM.txt', sep='\\s+', header=0)\n",
    "M_list = data[data.columns[0]].values\n",
    "z_list = data[data.columns[1]].values\n",
    "dndzM_list = data[data.columns[2]].values\n",
    "M_test, z_test = 1e10, 5\n",
    "if M_test < M_list.min() or M_test > M_list.max() or z_test < z_list.min() or z_test > z_list.max():\n",
    "    print(f\"Error: M={M_test}, z={z_test} is out of data range.\")\n",
    "else:\n",
    "    print(f_dndzM(M_test, z_test))"
   ]
  },
  {
   "cell_type": "code",
   "execution_count": 5,
   "metadata": {},
   "outputs": [
    {
     "name": "stdout",
     "output_type": "stream",
     "text": [
      "M_list: [ 4.  4.  4. ... 40. 40. 40.]\n",
      "z_list: [1.00000000e+05 1.02329299e+05 1.04712855e+05 ... 9.54992586e+14\n",
      " 9.77237221e+14 1.00000000e+15]\n",
      "Is M_list monotonically increasing? False\n",
      "Is z_list monotonically increasing? False\n",
      "Are there any duplicate values in M_list? True\n",
      "Are there any duplicate values in z_list? True\n"
     ]
    }
   ],
   "source": [
    "# 检查输入数据\n",
    "print(f\"M_list: {M_list}\")\n",
    "print(f\"z_list: {z_list}\")\n",
    "\n",
    "# 检查 x 和 y 坐标是否单调递增\n",
    "print(f\"Is M_list monotonically increasing? {np.all(np.diff(M_list) > 0)}\")\n",
    "print(f\"Is z_list monotonically increasing? {np.all(np.diff(z_list) > 0)}\")\n",
    "\n",
    "# 检查 x 和 y 坐标是否有重复值\n",
    "print(f\"Are there any duplicate values in M_list? {len(np.unique(M_list)) != len(M_list)}\")\n",
    "print(f\"Are there any duplicate values in z_list? {len(np.unique(z_list)) != len(z_list)}\")"
   ]
  },
  {
   "cell_type": "code",
   "execution_count": 6,
   "metadata": {},
   "outputs": [
    {
     "name": "stderr",
     "output_type": "stream",
     "text": [
      "/tmp/ipykernel_810/3151119667.py:6: DeprecationWarning: `interp2d` is deprecated!\n",
      "`interp2d` is deprecated in SciPy 1.10 and will be removed in SciPy 1.13.0.\n",
      "\n",
      "For legacy code, nearly bug-for-bug compatible replacements are\n",
      "`RectBivariateSpline` on regular grids, and `bisplrep`/`bisplev` for\n",
      "scattered 2D data.\n",
      "\n",
      "In new code, for regular grids use `RegularGridInterpolator` instead.\n",
      "For scattered data, prefer `LinearNDInterpolator` or\n",
      "`CloughTocher2DInterpolator`.\n",
      "\n",
      "For more details see\n",
      "`https://scipy.github.io/devdocs/notebooks/interp_transition_guide.html`\n",
      "\n",
      "  f_dndzM = interp2d(M_list_unique, z_list_unique, dndzM_list.reshape(len(z_list_unique), len(M_list_unique)), kind='linear')\n"
     ]
    }
   ],
   "source": [
    "# 对数据进行预处理\n",
    "M_list_unique = np.unique(M_list)\n",
    "z_list_unique = np.unique(z_list)\n",
    "\n",
    "# 在新的网格上进行二维插值\n",
    "f_dndzM = interp2d(M_list_unique, z_list_unique, dndzM_list.reshape(len(z_list_unique), len(M_list_unique)), kind='linear')"
   ]
  },
  {
   "cell_type": "code",
   "execution_count": 7,
   "metadata": {},
   "outputs": [
    {
     "name": "stdout",
     "output_type": "stream",
     "text": [
      "[1.32786275e-07]\n"
     ]
    },
    {
     "name": "stderr",
     "output_type": "stream",
     "text": [
      "/tmp/ipykernel_810/4049118612.py:4: DeprecationWarning:         `interp2d` is deprecated!\n",
      "        `interp2d` is deprecated in SciPy 1.10 and will be removed in SciPy 1.13.0.\n",
      "\n",
      "        For legacy code, nearly bug-for-bug compatible replacements are\n",
      "        `RectBivariateSpline` on regular grids, and `bisplrep`/`bisplev` for\n",
      "        scattered 2D data.\n",
      "\n",
      "        In new code, for regular grids use `RegularGridInterpolator` instead.\n",
      "        For scattered data, prefer `LinearNDInterpolator` or\n",
      "        `CloughTocher2DInterpolator`.\n",
      "\n",
      "        For more details see\n",
      "        `https://scipy.github.io/devdocs/notebooks/interp_transition_guide.html`\n",
      "\n",
      "  dndzM_interp = f_dndzM(M_test, z_test)\n"
     ]
    }
   ],
   "source": [
    "# 计算任意 M, z 时的质量函数\n",
    "M_test = 5\n",
    "z_test = 222000\n",
    "dndzM_interp = f_dndzM(M_test, z_test)\n",
    "print(dndzM_interp)"
   ]
  },
  {
   "cell_type": "code",
   "execution_count": 8,
   "metadata": {},
   "outputs": [],
   "source": [
    "Mmin = lambda z: 2.8e9 * (1+z)**(-3/2) # M_sun\n",
    "Omega_m = 0.32\n",
    "rho_c = 2.7752e11 * 0.6774**2 # M_sun/Mpc^3\n",
    "\n",
    "def fcoll(z):\n",
    "    return (1/rho_c) * quad(lambda M: M * dndzM_interp(M, z), Mmin(z), np.inf)[0]"
   ]
  },
  {
   "cell_type": "code",
   "execution_count": 9,
   "metadata": {},
   "outputs": [],
   "source": [
    "import scipy.misc as misc\n",
    "\n",
    "def dfcoll_dz(z):\n",
    "    return misc.derivative(fcoll, z, dx=1e-3)\n",
    "\n",
    "def H(z):\n",
    "    return 67.72 * np.sqrt(0.32*(1+z)**3 + 0.68) # km/s/Mpc\n",
    "    \n",
    "def SFRD(z):\n",
    "    return 0.1 * (0.048/0.32) * rho_c * dfcoll_dz(z) / H(z)"
   ]
  },
  {
   "cell_type": "code",
   "execution_count": 10,
   "metadata": {},
   "outputs": [
    {
     "name": "stdout",
     "output_type": "stream",
     "text": [
      "2.9626581462443565e+23\n"
     ]
    }
   ],
   "source": [
    "data=np.loadtxt('./SED.txt',skiprows=1)\n",
    "nu_list=(data[:,0])\n",
    "s_list=(data[:,1])\n",
    "\n",
    "# 创建一维插值函数\n",
    "f_s = interp1d(nu_list, s_list, kind='linear')\n",
    "\n",
    "# 计算任意频率 ν 的 s(ν)\n",
    "nu_test = 2.7e16\n",
    "s_interp = f_s(nu_test)\n",
    "print(s_interp)"
   ]
  },
  {
   "cell_type": "code",
   "execution_count": 17,
   "metadata": {},
   "outputs": [
    {
     "name": "stdout",
     "output_type": "stream",
     "text": [
      "[ 0.1         0.10476158  0.10974988  0.1149757   0.12045035  0.12618569\n",
      "  0.13219411  0.13848864  0.14508288  0.15199111  0.15922828  0.16681005\n",
      "  0.17475284  0.18307383  0.19179103  0.2009233   0.21049041  0.22051307\n",
      "  0.23101297  0.24201283  0.25353645  0.26560878  0.27825594  0.29150531\n",
      "  0.30538555  0.31992671  0.33516027  0.35111917  0.36783798  0.38535286\n",
      "  0.40370173  0.42292429  0.44306215  0.46415888  0.48626016  0.5094138\n",
      "  0.53366992  0.55908102  0.58570208  0.61359073  0.64280731  0.67341507\n",
      "  0.70548023  0.7390722   0.77426368  0.81113083  0.84975344  0.89021509\n",
      "  0.93260335  0.97700996  1.02353102  1.07226722  1.12332403  1.17681195\n",
      "  1.23284674  1.29154967  1.35304777  1.41747416  1.48496826  1.55567614\n",
      "  1.62975083  1.70735265  1.78864953  1.87381742  1.96304065  2.05651231\n",
      "  2.15443469  2.25701972  2.36448941  2.47707636  2.59502421  2.71858824\n",
      "  2.84803587  2.98364724  3.12571585  3.27454916  3.43046929  3.59381366\n",
      "  3.76493581  3.94420606  4.1320124   4.32876128  4.53487851  4.75081016\n",
      "  4.97702356  5.21400829  5.46227722  5.72236766  5.9948425   6.28029144\n",
      "  6.57933225  6.8926121   7.22080902  7.56463328  7.92482898  8.30217568\n",
      "  8.69749003  9.11162756  9.54548457 10.        ]\n"
     ]
    },
    {
     "ename": "TypeError",
     "evalue": "'numpy.ndarray' object is not callable",
     "output_type": "error",
     "traceback": [
      "\u001b[0;31m---------------------------------------------------------------------------\u001b[0m",
      "\u001b[0;31mTypeError\u001b[0m                                 Traceback (most recent call last)",
      "Cell \u001b[0;32mIn[17], line 9\u001b[0m\n\u001b[1;32m      7\u001b[0m \u001b[38;5;28mprint\u001b[39m(wavelength)\n\u001b[1;32m      8\u001b[0m nu \u001b[38;5;241m=\u001b[39m \u001b[38;5;241m3e8\u001b[39m \u001b[38;5;241m/\u001b[39m (wavelength \u001b[38;5;241m*\u001b[39m \u001b[38;5;241m1e-6\u001b[39m) \u001b[38;5;66;03m# Hz\u001b[39;00m\n\u001b[0;32m----> 9\u001b[0m J_nu \u001b[38;5;241m=\u001b[39m [J(n) \u001b[38;5;28;01mfor\u001b[39;00m n \u001b[38;5;129;01min\u001b[39;00m nu]\n\u001b[1;32m     10\u001b[0m \u001b[38;5;28mprint\u001b[39m(J(nu))\n\u001b[1;32m     12\u001b[0m \u001b[38;5;28;01mimport\u001b[39;00m \u001b[38;5;21;01mmatplotlib\u001b[39;00m\u001b[38;5;21;01m.\u001b[39;00m\u001b[38;5;21;01mpyplot\u001b[39;00m \u001b[38;5;28;01mas\u001b[39;00m \u001b[38;5;21;01mplt\u001b[39;00m\n",
      "Cell \u001b[0;32mIn[17], line 9\u001b[0m, in \u001b[0;36m<listcomp>\u001b[0;34m(.0)\u001b[0m\n\u001b[1;32m      7\u001b[0m \u001b[38;5;28mprint\u001b[39m(wavelength)\n\u001b[1;32m      8\u001b[0m nu \u001b[38;5;241m=\u001b[39m \u001b[38;5;241m3e8\u001b[39m \u001b[38;5;241m/\u001b[39m (wavelength \u001b[38;5;241m*\u001b[39m \u001b[38;5;241m1e-6\u001b[39m) \u001b[38;5;66;03m# Hz\u001b[39;00m\n\u001b[0;32m----> 9\u001b[0m J_nu \u001b[38;5;241m=\u001b[39m [\u001b[43mJ\u001b[49m\u001b[43m(\u001b[49m\u001b[43mn\u001b[49m\u001b[43m)\u001b[49m \u001b[38;5;28;01mfor\u001b[39;00m n \u001b[38;5;129;01min\u001b[39;00m nu]\n\u001b[1;32m     10\u001b[0m \u001b[38;5;28mprint\u001b[39m(J(nu))\n\u001b[1;32m     12\u001b[0m \u001b[38;5;28;01mimport\u001b[39;00m \u001b[38;5;21;01mmatplotlib\u001b[39;00m\u001b[38;5;21;01m.\u001b[39;00m\u001b[38;5;21;01mpyplot\u001b[39;00m \u001b[38;5;28;01mas\u001b[39;00m \u001b[38;5;21;01mplt\u001b[39;00m\n",
      "Cell \u001b[0;32mIn[17], line 3\u001b[0m, in \u001b[0;36mJ\u001b[0;34m(nu)\u001b[0m\n\u001b[1;32m      1\u001b[0m \u001b[38;5;28;01mdef\u001b[39;00m \u001b[38;5;21mJ\u001b[39m(nu):\n\u001b[1;32m      2\u001b[0m     integrand \u001b[38;5;241m=\u001b[39m \u001b[38;5;28;01mlambda\u001b[39;00m z: s_interp(nu\u001b[38;5;241m/\u001b[39m(\u001b[38;5;241m1\u001b[39m\u001b[38;5;241m+\u001b[39mz)) \u001b[38;5;241m*\u001b[39m SFRD(z) \u001b[38;5;241m/\u001b[39m (\u001b[38;5;241m4\u001b[39m\u001b[38;5;241m*\u001b[39mnp\u001b[38;5;241m.\u001b[39mpi \u001b[38;5;241m*\u001b[39m H(z) \u001b[38;5;241m*\u001b[39m (\u001b[38;5;241m1\u001b[39m\u001b[38;5;241m+\u001b[39mz))\n\u001b[0;32m----> 3\u001b[0m     \u001b[38;5;28;01mreturn\u001b[39;00m \u001b[43mquad\u001b[49m\u001b[43m(\u001b[49m\u001b[43mintegrand\u001b[49m\u001b[43m,\u001b[49m\u001b[43m \u001b[49m\u001b[38;5;241;43m5\u001b[39;49m\u001b[43m,\u001b[49m\u001b[43m \u001b[49m\u001b[38;5;241;43m30\u001b[39;49m\u001b[43m)\u001b[49m[\u001b[38;5;241m0\u001b[39m]\n",
      "File \u001b[0;32m~/miniconda3/envs/ictp-ap/lib/python3.10/site-packages/scipy/integrate/_quadpack_py.py:465\u001b[0m, in \u001b[0;36mquad\u001b[0;34m(func, a, b, args, full_output, epsabs, epsrel, limit, points, weight, wvar, wopts, maxp1, limlst, complex_func)\u001b[0m\n\u001b[1;32m    462\u001b[0m     \u001b[38;5;28;01mreturn\u001b[39;00m retval\n\u001b[1;32m    464\u001b[0m \u001b[38;5;28;01mif\u001b[39;00m weight \u001b[38;5;129;01mis\u001b[39;00m \u001b[38;5;28;01mNone\u001b[39;00m:\n\u001b[0;32m--> 465\u001b[0m     retval \u001b[38;5;241m=\u001b[39m \u001b[43m_quad\u001b[49m\u001b[43m(\u001b[49m\u001b[43mfunc\u001b[49m\u001b[43m,\u001b[49m\u001b[43m \u001b[49m\u001b[43ma\u001b[49m\u001b[43m,\u001b[49m\u001b[43m \u001b[49m\u001b[43mb\u001b[49m\u001b[43m,\u001b[49m\u001b[43m \u001b[49m\u001b[43margs\u001b[49m\u001b[43m,\u001b[49m\u001b[43m \u001b[49m\u001b[43mfull_output\u001b[49m\u001b[43m,\u001b[49m\u001b[43m \u001b[49m\u001b[43mepsabs\u001b[49m\u001b[43m,\u001b[49m\u001b[43m \u001b[49m\u001b[43mepsrel\u001b[49m\u001b[43m,\u001b[49m\u001b[43m \u001b[49m\u001b[43mlimit\u001b[49m\u001b[43m,\u001b[49m\n\u001b[1;32m    466\u001b[0m \u001b[43m                   \u001b[49m\u001b[43mpoints\u001b[49m\u001b[43m)\u001b[49m\n\u001b[1;32m    467\u001b[0m \u001b[38;5;28;01melse\u001b[39;00m:\n\u001b[1;32m    468\u001b[0m     \u001b[38;5;28;01mif\u001b[39;00m points \u001b[38;5;129;01mis\u001b[39;00m \u001b[38;5;129;01mnot\u001b[39;00m \u001b[38;5;28;01mNone\u001b[39;00m:\n",
      "File \u001b[0;32m~/miniconda3/envs/ictp-ap/lib/python3.10/site-packages/scipy/integrate/_quadpack_py.py:577\u001b[0m, in \u001b[0;36m_quad\u001b[0;34m(func, a, b, args, full_output, epsabs, epsrel, limit, points)\u001b[0m\n\u001b[1;32m    575\u001b[0m \u001b[38;5;28;01mif\u001b[39;00m points \u001b[38;5;129;01mis\u001b[39;00m \u001b[38;5;28;01mNone\u001b[39;00m:\n\u001b[1;32m    576\u001b[0m     \u001b[38;5;28;01mif\u001b[39;00m infbounds \u001b[38;5;241m==\u001b[39m \u001b[38;5;241m0\u001b[39m:\n\u001b[0;32m--> 577\u001b[0m         \u001b[38;5;28;01mreturn\u001b[39;00m \u001b[43m_quadpack\u001b[49m\u001b[38;5;241;43m.\u001b[39;49m\u001b[43m_qagse\u001b[49m\u001b[43m(\u001b[49m\u001b[43mfunc\u001b[49m\u001b[43m,\u001b[49m\u001b[43ma\u001b[49m\u001b[43m,\u001b[49m\u001b[43mb\u001b[49m\u001b[43m,\u001b[49m\u001b[43margs\u001b[49m\u001b[43m,\u001b[49m\u001b[43mfull_output\u001b[49m\u001b[43m,\u001b[49m\u001b[43mepsabs\u001b[49m\u001b[43m,\u001b[49m\u001b[43mepsrel\u001b[49m\u001b[43m,\u001b[49m\u001b[43mlimit\u001b[49m\u001b[43m)\u001b[49m\n\u001b[1;32m    578\u001b[0m     \u001b[38;5;28;01melse\u001b[39;00m:\n\u001b[1;32m    579\u001b[0m         \u001b[38;5;28;01mreturn\u001b[39;00m _quadpack\u001b[38;5;241m.\u001b[39m_qagie(func,bound,infbounds,args,full_output,epsabs,epsrel,limit)\n",
      "Cell \u001b[0;32mIn[17], line 2\u001b[0m, in \u001b[0;36mJ.<locals>.<lambda>\u001b[0;34m(z)\u001b[0m\n\u001b[1;32m      1\u001b[0m \u001b[38;5;28;01mdef\u001b[39;00m \u001b[38;5;21mJ\u001b[39m(nu):\n\u001b[0;32m----> 2\u001b[0m     integrand \u001b[38;5;241m=\u001b[39m \u001b[38;5;28;01mlambda\u001b[39;00m z: \u001b[43ms_interp\u001b[49m\u001b[43m(\u001b[49m\u001b[43mnu\u001b[49m\u001b[38;5;241;43m/\u001b[39;49m\u001b[43m(\u001b[49m\u001b[38;5;241;43m1\u001b[39;49m\u001b[38;5;241;43m+\u001b[39;49m\u001b[43mz\u001b[49m\u001b[43m)\u001b[49m\u001b[43m)\u001b[49m \u001b[38;5;241m*\u001b[39m SFRD(z) \u001b[38;5;241m/\u001b[39m (\u001b[38;5;241m4\u001b[39m\u001b[38;5;241m*\u001b[39mnp\u001b[38;5;241m.\u001b[39mpi \u001b[38;5;241m*\u001b[39m H(z) \u001b[38;5;241m*\u001b[39m (\u001b[38;5;241m1\u001b[39m\u001b[38;5;241m+\u001b[39mz))\n\u001b[1;32m      3\u001b[0m     \u001b[38;5;28;01mreturn\u001b[39;00m quad(integrand, \u001b[38;5;241m5\u001b[39m, \u001b[38;5;241m30\u001b[39m)[\u001b[38;5;241m0\u001b[39m]\n",
      "\u001b[0;31mTypeError\u001b[0m: 'numpy.ndarray' object is not callable"
     ]
    }
   ],
   "source": [
    "def J(nu):\n",
    "    integrand = lambda z: s_interp(nu/(1+z)) * SFRD(z) / (4*np.pi * H(z) * (1+z))\n",
    "    return quad(integrand, 5, 30)[0]\n",
    "\n",
    "# 计算 J(ν) 在 0.1-10 μm 范围内的值\n",
    "wavelength = np.logspace(-1, 1, 100) # μm\n",
    "print(wavelength)\n",
    "nu = 3e8 / (wavelength * 1e-6) # Hz\n",
    "J_nu = [J(n) for n in nu]\n",
    "print(J(nu))\n",
    "\n",
    "import matplotlib.pyplot as plt\n",
    "plt.plot(wavelength, J(nu))\n",
    "plt.xlabel(r\"Wavelength $\\lambda$ [$\\mu$m]\")\n",
    "plt.ylabel(r\"$J(\\nu)$ [erg s$^{-1}$ cm$^{-2}$ sr$^{-1}$ Hz$^{-1}$]\")\n",
    "plt.show()\n"
   ]
  },
  {
   "cell_type": "code",
   "execution_count": null,
   "metadata": {},
   "outputs": [],
   "source": []
  }
 ],
 "metadata": {
  "kernelspec": {
   "display_name": "ictp-ap",
   "language": "python",
   "name": "python3"
  },
  "language_info": {
   "codemirror_mode": {
    "name": "ipython",
    "version": 3
   },
   "file_extension": ".py",
   "mimetype": "text/x-python",
   "name": "python",
   "nbconvert_exporter": "python",
   "pygments_lexer": "ipython3",
   "version": "3.10.13"
  }
 },
 "nbformat": 4,
 "nbformat_minor": 2
}
