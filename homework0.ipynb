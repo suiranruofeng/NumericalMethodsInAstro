{
 "cells": [
  {
   "cell_type": "code",
   "execution_count": 2,
   "metadata": {},
   "outputs": [],
   "source": [
    "import numpy as np\n",
    "from scipy.interpolate import interp1d"
   ]
  },
  {
   "cell_type": "code",
   "execution_count": 3,
   "metadata": {},
   "outputs": [],
   "source": [
    "data=np.loadtxt('./transfer-function.txt',skiprows=1)"
   ]
  },
  {
   "cell_type": "code",
   "execution_count": 4,
   "metadata": {},
   "outputs": [],
   "source": [
    "data_lgk=np.log10(data[:,0])\n",
    "data_lgTk=np.log10(data[:,1])"
   ]
  },
  {
   "cell_type": "code",
   "execution_count": 5,
   "metadata": {},
   "outputs": [],
   "source": [
    "lgTk_interp=interp1d(data_lgk,data_lgTk,kind='cubic')"
   ]
  },
  {
   "cell_type": "code",
   "execution_count": 6,
   "metadata": {},
   "outputs": [],
   "source": [
    "def Tk(k):\n",
    "    return 10 ** lgTk_interp(np.log10(k))[()]\n"
   ]
  },
  {
   "cell_type": "code",
   "execution_count": 7,
   "metadata": {},
   "outputs": [
    {
     "name": "stdout",
     "output_type": "stream",
     "text": [
      "k= 0.001 Tk= 0.984495401382446\n"
     ]
    }
   ],
   "source": [
    "k=1e-3\n",
    "a=Tk(k)\n",
    "print('k=',k,'Tk=',a)"
   ]
  },
  {
   "cell_type": "code",
   "execution_count": 8,
   "metadata": {},
   "outputs": [
    {
     "name": "stdout",
     "output_type": "stream",
     "text": [
      "k= 10.0 Tk 4.4378114075907535e-05\n"
     ]
    }
   ],
   "source": [
    "k=10.0\n",
    "a=Tk(k)\n",
    "print('k=',k,'Tk',a)"
   ]
  },
  {
   "cell_type": "code",
   "execution_count": 9,
   "metadata": {},
   "outputs": [
    {
     "name": "stdout",
     "output_type": "stream",
     "text": [
      "int_0_^pi/2 sin(x)dx= 0.9999999999999999\n",
      "int_0_^pi/2 sin(2.3x)dx= 0.8221767496471166\n"
     ]
    }
   ],
   "source": [
    "from scipy.integrate import quad\n",
    "def fx1(x):\n",
    "    return np.sin(x)\n",
    "\n",
    "a=0.0\n",
    "b=np.pi/2\n",
    "\n",
    "I,err=quad(fx1,a,b,epsrel=1e-3)\n",
    "\n",
    "print('int_0_^pi/2 sin(x)dx=',I)\n",
    "\n",
    "def fx2(x,omega):\n",
    "    return np.sin(omega*x)\n",
    "\n",
    "a=0.0\n",
    "b=np.pi/2\n",
    "\n",
    "omega=2.3\n",
    "\n",
    "I,err=quad(fx2,a,b,args=(omega),epsrel=1e-3)\n",
    "\n",
    "print('int_0_^pi/2 sin(2.3x)dx=',I)"
   ]
  }
 ],
 "metadata": {
  "kernelspec": {
   "display_name": "ictp-ap",
   "language": "python",
   "name": "python3"
  },
  "language_info": {
   "codemirror_mode": {
    "name": "ipython",
    "version": 3
   },
   "file_extension": ".py",
   "mimetype": "text/x-python",
   "name": "python",
   "nbconvert_exporter": "python",
   "pygments_lexer": "ipython3",
   "version": "3.10.13"
  }
 },
 "nbformat": 4,
 "nbformat_minor": 2
}
