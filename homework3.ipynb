{
 "cells": [
  {
   "cell_type": "code",
   "execution_count": 1,
   "metadata": {},
   "outputs": [
    {
     "name": "stdout",
     "output_type": "stream",
     "text": [
      "ss= 0.5972391681679584\n"
     ]
    }
   ],
   "source": [
    "import numpy as np\n",
    "from scipy.integrate import quad\n",
    "\n",
    "def kappa(xpp):\n",
    "    return xpp**2\n",
    "\n",
    "def tau(xp):\n",
    "    ss,err=quad(kappa,0.0,xp,epsrel=1e-3)\n",
    "    return ss\n",
    "\n",
    "def emissivity(xp):\n",
    "    return np.exp(-xp)\n",
    "\n",
    "def f(xp):\n",
    "    return emissivity(xp)*np.exp(-tau(xp))\n",
    "\n",
    "ss, err=quad(f,0.0,1.0,epsrel=1e-3)\n",
    "\n",
    "print('ss=',ss)"
   ]
  },
  {
   "cell_type": "code",
   "execution_count": null,
   "metadata": {},
   "outputs": [],
   "source": []
  }
 ],
 "metadata": {
  "kernelspec": {
   "display_name": "ictp-ap",
   "language": "python",
   "name": "python3"
  },
  "language_info": {
   "codemirror_mode": {
    "name": "ipython",
    "version": 3
   },
   "file_extension": ".py",
   "mimetype": "text/x-python",
   "name": "python",
   "nbconvert_exporter": "python",
   "pygments_lexer": "ipython3",
   "version": "3.10.13"
  }
 },
 "nbformat": 4,
 "nbformat_minor": 2
}
